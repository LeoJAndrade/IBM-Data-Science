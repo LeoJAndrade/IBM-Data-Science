{
 "cells": [
  {
   "cell_type": "markdown",
   "id": "54e50ecc-733f-43e5-8fb3-3f80027d4a4b",
   "metadata": {},
   "source": [
    "# Data Science Tools and Ecosystem"
   ]
  },
  {
   "cell_type": "markdown",
   "id": "8a5a175c-ae34-425a-9415-b67af59db921",
   "metadata": {},
   "source": [
    "In this notebook, Data Science Tools and Ecosystem are summarized."
   ]
  },
  {
   "cell_type": "markdown",
   "id": "36acc498-473f-4ae1-a0f7-b3643074c1cb",
   "metadata": {},
   "source": [
    "**Objectives:**\n",
    "\n",
    "- Languages for Data Scientists\n",
    "- Libraries for Data Scientists\n",
    "- Tools for Data Scientists\n",
    "- Arithemitc Expressions in Python"
   ]
  },
  {
   "cell_type": "markdown",
   "id": "69e6c9ad-b295-402a-b7ee-81d385045599",
   "metadata": {},
   "source": [
    "Some of the popular languages that Data Scientists use are:\n",
    "\n",
    "1. Python\n",
    "2. R\n",
    "3. Scala"
   ]
  },
  {
   "cell_type": "markdown",
   "id": "bdd9f852-685b-439d-a486-f3b92e3f6292",
   "metadata": {},
   "source": [
    "Some of the commonly used libraries use by Data Scientists include:\n",
    "\n",
    "1. Numpy (Data Manipulation)\n",
    "2. Pandas (Data Manipulation)\n",
    "3. Seaborn (Data Visualization)\n",
    "4. Matplotlib (Data Visualization)\n",
    "5. Scikit-Learn (Machine Learning)\n",
    "6. TensorFlow (Deep Learning)"
   ]
  },
  {
   "cell_type": "markdown",
   "id": "7e65c6ec-0be1-4664-aa49-db7261ea271b",
   "metadata": {},
   "source": [
    "| Data Science Tools |\n",
    "| ------------------ |\n",
    "| Apache Spark |\n",
    "| Apache Airflow |\n",
    "| Apache Kafka |\n",
    "| Apache Atlas |"
   ]
  },
  {
   "cell_type": "markdown",
   "id": "c0a3fc1b-c298-47e1-bd36-c84d8d0415db",
   "metadata": {},
   "source": [
    "### Below are a few examples of evaluating arithemitc expressions in Python"
   ]
  },
  {
   "cell_type": "markdown",
   "id": "99f623bc-06c3-4ecb-bdc2-0815756b182f",
   "metadata": {},
   "source": [
    "This a simple arithemitc expression to multiply then add integers."
   ]
  },
  {
   "cell_type": "code",
   "execution_count": 1,
   "id": "e1e880f4-8a8d-4e5c-98d4-5c8b61bff6e0",
   "metadata": {},
   "outputs": [
    {
     "name": "stdout",
     "output_type": "stream",
     "text": [
      "17\n"
     ]
    }
   ],
   "source": [
    "print((3 * 4) + 5)"
   ]
  },
  {
   "cell_type": "code",
   "execution_count": 9,
   "id": "826627ef-35f8-4286-86ad-2efbc858229a",
   "metadata": {},
   "outputs": [
    {
     "name": "stdout",
     "output_type": "stream",
     "text": [
      "Hours: 3.33\n"
     ]
    }
   ],
   "source": [
    "minutes = 200\n",
    "hours = minutes / 60\n",
    "\n",
    "print(f\"Hours: {hours:.2f}\")"
   ]
  },
  {
   "cell_type": "markdown",
   "id": "4f298247-34f5-44ae-804d-24737fb10834",
   "metadata": {},
   "source": [
    "## Autor\n",
    "Leonardo de Jesus Andrade"
   ]
  }
 ],
 "metadata": {
  "kernelspec": {
   "display_name": "Python 3 (ipykernel)",
   "language": "python",
   "name": "python3"
  },
  "language_info": {
   "codemirror_mode": {
    "name": "ipython",
    "version": 3
   },
   "file_extension": ".py",
   "mimetype": "text/x-python",
   "name": "python",
   "nbconvert_exporter": "python",
   "pygments_lexer": "ipython3",
   "version": "3.12.7"
  }
 },
 "nbformat": 4,
 "nbformat_minor": 5
}
